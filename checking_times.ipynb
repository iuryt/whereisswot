{
 "cells": [
  {
   "cell_type": "markdown",
   "id": "bdf102db",
   "metadata": {},
   "source": [
    "# Checking SWOT Passing Times\n",
    "This notebook is used to verify the accuracy of predicted SWOT passing times by comparing them with previously downloaded observed data. The analysis includes calculating time differences and visualizing the results."
   ]
  },
  {
   "cell_type": "code",
   "execution_count": null,
   "id": "da6ff123-dcab-4a29-b3f8-b6a55be713db",
   "metadata": {},
   "outputs": [],
   "source": [
    "# Import necessary libraries\n",
    "import os\n",
    "import geopandas as gpd\n",
    "import pandas as pd\n",
    "from datetime import timedelta, datetime\n",
    "from glob import glob\n",
    "import numpy as np\n",
    "import matplotlib.pyplot as plt\n",
    "from tools import process_orbit_data"
   ]
  },
  {
   "cell_type": "markdown",
   "id": "240a2d39",
   "metadata": {},
   "source": [
    "## Load and Process Data\n",
    "Here, we load the predicted and observed SWOT passing data. The observed data is extracted from files, and both datasets are filtered and aligned for comparison."
   ]
  },
  {
   "cell_type": "code",
   "execution_count": null,
   "id": "2602bf08-3caa-4650-9322-9c9aae2c916b",
   "metadata": {},
   "outputs": [
    {
     "name": "stderr",
     "output_type": "stream",
     "text": [
      "/home/iury/miniforge3/envs/coringa3.0.0/lib/python3.9/site-packages/pyogrio/raw.py:198: RuntimeWarning: data/external/swot_swath/swot_calval_orbit_june2015-v2_swath.shp contains polygon(s) with rings with invalid winding order. Autocorrecting them, but that shapefile should be corrected using ogr2ogr for example.\n",
      "  return ogr_read(\n"
     ]
    }
   ],
   "source": [
    "# Process predicted and observed data\n",
    "predicted = process_orbit_data()\n",
    "data = []\n",
    "for fname in glob(\"/mnt/bigcreek_nfs_share/swot/v2_0_1/Unsmoothed/*/*\"):\n",
    "    cycle, npass, time0, time1 = fname.split(\"/\")[-1].split(\"_\")[-5:-1]\n",
    "    cycle, npass = int(cycle), int(npass)\n",
    "    time0, time1 = [datetime.strptime(timei, \"%Y%m%dT%H%M%S\") for timei in [time0, time1]]\n",
    "    orbit = fname.split(\"/\")[-2]\n",
    "    data.append([cycle, npass, time0, time1, orbit])\n",
    "\n",
    "observed = pd.DataFrame(data, columns=[\"CYCLE\",\"PASS\",\"start_time\",\"end_time\", \"ORBIT\"]).sort_values(\"start_time\")\n",
    "overlap = (predicted[\"TIME\"]>=observed[\"start_time\"].min()-timedelta(days=1))&(predicted[\"TIME\"]<=observed[\"end_time\"].max()+timedelta(days=1))\n",
    "predicted = predicted[overlap].reset_index(drop=True)\n",
    "\n",
    "predicted = predicted.set_index([\"CYCLE\", \"PASS\"])\n",
    "observed = observed.set_index([\"CYCLE\", \"PASS\"])"
   ]
  },
  {
   "cell_type": "markdown",
   "id": "79eeb495",
   "metadata": {},
   "source": [
    "## Calculate Time Differences\n",
    "The time differences between predicted and observed passing times are calculated in seconds. This will help in assessing the accuracy of the predictions."
   ]
  },
  {
   "cell_type": "code",
   "execution_count": null,
   "id": "b61f95c7",
   "metadata": {},
   "outputs": [],
   "source": [
    "# Calculate time differences\n",
    "predicted_time = predicted[\"TIME\"]\n",
    "observed_time = observed.start_time\n",
    "time_difference = (predicted_time-observed_time).dt.total_seconds()"
   ]
  },
  {
   "cell_type": "markdown",
   "id": "7ff7d17c",
   "metadata": {},
   "source": [
    "## Quantile Analysis of Time Differences\n",
    "The quantiles of the time differences (in minutes) are computed to summarize the range of deviations."
   ]
  },
  {
   "cell_type": "code",
   "execution_count": null,
   "id": "dda46bbd",
   "metadata": {},
   "outputs": [
    {
     "data": {
      "text/plain": [
       "0.0   -39.678800\n",
       "1.0     0.687867\n",
       "dtype: float64"
      ]
     },
     "execution_count": 82,
     "metadata": {},
     "output_type": "execute_result"
    }
   ],
   "source": [
    "# Compute quantiles of time differences\n",
    "(time_difference/60).dropna().quantile([0,1])"
   ]
  },
  {
   "cell_type": "markdown",
   "id": "bd582bf9",
   "metadata": {},
   "source": [
    "## Visualize Time Differences\n",
    "A histogram of the time differences (in minutes) is plotted to visualize the distribution of deviations. The y-axis is logarithmic to better display the range of values."
   ]
  },
  {
   "cell_type": "code",
   "execution_count": 84,
   "id": "e2b993d2",
   "metadata": {},
   "outputs": [
    {
     "data": {
      "image/png": "[encoded data removed]",
      "text/plain": [
       "<Figure size 640x480 with 1 Axes>"
      ]
     },
     "metadata": {},
     "output_type": "display_data"
    }
   ],
   "source": [
    "# Plot histogram of time differences\n",
    "fig, ax = plt.subplots()\n",
    "(time_difference/60).dropna().plot.hist(bins=np.arange(-40,40,1), log=True)\n",
    "ax.set(ylabel=f\"Number of passes (total = {(time_difference/60).dropna().shape[0]})\", xlabel=\"Time difference (minutes)\");"
   ]
  }
 ],
 "metadata": {
  "kernelspec": {
   "display_name": "coringa3.0.0",
   "language": "python",
   "name": "python3"
  },
  "language_info": {
   "codemirror_mode": {
    "name": "ipython",
    "version": 3
   },
   "file_extension": ".py",
   "mimetype": "text/x-python",
   "name": "python",
   "nbconvert_exporter": "python",
   "pygments_lexer": "ipython3",
   "version": "3.9.21"
  }
 },
 "nbformat": 4,
 "nbformat_minor": 5
}
